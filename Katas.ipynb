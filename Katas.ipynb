{
 "cells": [
  {
   "cell_type": "code",
   "execution_count": null,
   "metadata": {},
   "outputs": [],
   "source": [
    "from datetime import date\n",
    "print(\"Today's date is: \"+ str(date.today()))"
   ]
  },
  {
   "cell_type": "code",
   "execution_count": null,
   "metadata": {},
   "outputs": [],
   "source": [
    "parsec = 11\n",
    "lightyears = 0\n",
    "\n",
    "lightyears= 3.26156 * 11\n",
    "\n",
    "print(str(parsec) + \" parsec, is \" + str(lightyears) + \" lightyears\")"
   ]
  },
  {
   "cell_type": "code",
   "execution_count": null,
   "metadata": {},
   "outputs": [],
   "source": [
    "import ipywidgets as widgets\n",
    "\n",
    "ignition = widgets.ToggleButton(\n",
    "    value=False,\n",
    "    description='Iniciar Launch',\n",
    "    button_style='success',\n",
    "    tooltip='Engage your Launch',\n",
    "    icon='rocket'\n",
    ")\n",
    "\n",
    "output = widgets.Output()\n",
    "\n",
    "display(ignition, output)\n",
    "\n",
    "def on_value_change(change):\n",
    "    with output:\n",
    "        if change['new'] == True:\n",
    "            print(\"Nave Iniciada!\")\n",
    "        else:   \n",
    "            print(\"Nave Detenida\")\n",
    "\n",
    "ignition.observe(on_value_change, names='value')"
   ]
  },
  {
   "cell_type": "code",
   "execution_count": null,
   "metadata": {},
   "outputs": [],
   "source": [
    "%pip install matplotlib\n",
    "%pip install numpy"
   ]
  },
  {
   "cell_type": "markdown",
   "metadata": {},
   "source": [
    "# Manual de la llave"
   ]
  },
  {
   "cell_type": "markdown",
   "metadata": {},
   "source": [
    "## Niveles de Oxígeno\n",
    "\n",
    "Muestra diez minutos de niveles de oxígeno en tu nave."
   ]
  },
  {
   "cell_type": "code",
   "execution_count": null,
   "metadata": {},
   "outputs": [],
   "source": [
    "    import numpy as np\n",
    "    import matplotlib.pyplot as plt\n",
    "    data = np.random.default_rng(12345)\n",
    "    oxy_nums = data.integers(low=0, high=10, size=10)\n",
    "\n",
    "    plt.bar(range(len(oxy_nums)), oxy_nums)\n",
    "    plt.show()"
   ]
  },
  {
   "cell_type": "code",
   "execution_count": null,
   "metadata": {},
   "outputs": [],
   "source": []
  },
  {
   "cell_type": "markdown",
   "metadata": {},
   "source": [
    "# Kata3"
   ]
  },
  {
   "cell_type": "code",
   "execution_count": null,
   "metadata": {},
   "outputs": [],
   "source": [
    "\n",
    "velocidad = 45\n",
    "\n",
    "\n",
    "if velocidad>25:\n",
    "    print('Un asteroide se acerca a la Tierra')\n",
    "else:\n",
    "    print('Todo en orden')\n"
   ]
  },
  {
   "cell_type": "code",
   "execution_count": null,
   "metadata": {},
   "outputs": [],
   "source": [
    "velocidad = 19\n",
    "if velocidad>20:\n",
    "    print('Es posible ver un rayo de luz')\n",
    "else:\n",
    "    print('Todo en orden')\n"
   ]
  },
  {
   "cell_type": "code",
   "execution_count": null,
   "metadata": {},
   "outputs": [],
   "source": [
    "dimesion = 19\n",
    "velocidad = 6\n",
    "\n",
    "if dimesion > 25 and velocidad > 25:\n",
    "    print('El asteroide podria entrar a la atmosfera de la tierra')\n",
    "elif velocidad >=20:\n",
    "    print('Es posible ver un rayo de luz')\n",
    "else:\n",
    "    print('Todo normal')\n",
    "\n"
   ]
  },
  {
   "cell_type": "markdown",
   "metadata": {},
   "source": [
    "# Cadenas"
   ]
  },
  {
   "cell_type": "code",
   "execution_count": null,
   "metadata": {},
   "outputs": [],
   "source": [
    "text = \"\"\"Interesting facts about the Moon. The Moon is Earth's only satellite. There are several interesting facts about the Moon and how it affects life here on Earth. On average, the Moon moves 4cm away from the Earth every year. This yearly drift is not significant enough to cause immediate effects on Earth. The highest daylight temperature of the Moon is 127 C.\"\"\"\n",
    "oraciones = text.split(\". \")\n",
    "\n",
    "for oracion in oraciones:\n",
    " if  (\"temperature\" in oracion) or (\"distance\" in oracion) or (\"average\" in oracion):\n",
    "     print(oracion.replace('C','Celsius')) \n",
    "     \n",
    "\n",
    "   \n",
    "\n"
   ]
  },
  {
   "cell_type": "code",
   "execution_count": null,
   "metadata": {},
   "outputs": [],
   "source": [
    "# Datos con los que vas a trabajar\n",
    "name = \"Moon\"\n",
    "gravity = 0.00162 # in kms\n",
    "planet = \"Earth\"\n",
    "titulo = \"The gravity on {0}\".format(planet).title()\n",
    "multilineas= \"\"\"Planet name: {0} \n",
    "Gravity on the {1}: {2} ms\"\"\".format(planet,name,gravity*1000)\n",
    "plantilla = \"\"\"{0}\n",
    "{1}\"\"\".format(titulo,multilineas)\n",
    "print(plantilla)\n"
   ]
  },
  {
   "cell_type": "markdown",
   "metadata": {},
   "source": [
    "# Operadores"
   ]
  },
  {
   "cell_type": "code",
   "execution_count": null,
   "metadata": {},
   "outputs": [],
   "source": [
    "#Variables\n",
    "tierra = 149597870\n",
    "jupiter = 778547200\n",
    "milla = 0.621\n",
    "\n",
    "# Calcular la distancia entre planetas\n",
    "\n",
    "distancia = (jupiter -tierra)\n",
    "\n",
    "print('La distancia es {0}  KM '.format(distancia))\n",
    "print('La distancia es {0}  millas '.format(distancia*milla))"
   ]
  },
  {
   "cell_type": "code",
   "execution_count": null,
   "metadata": {},
   "outputs": [],
   "source": [
    "#Ejercicio 2\n",
    "\n",
    "# Almacenar las entradas del usuario\n",
    "\n",
    "planeta1 = input(\"Nombre del planeta: \")\n",
    "distancia1 = input(\"Distancia a sol de {0}:\".format(planeta1))\n",
    "print(\"Planeta : {0} \\nDistancia : {1}\".format(planeta1,distancia1))\n",
    "\n",
    "planeta2 = input(\"Nombre del planeta: \")\n",
    "distancia2 = input(\"Distancia a sol de {0}:\".format(planeta2))\n",
    "print(\"Planeta : {0} \\nDistancia : {1}\".format(planeta2,distancia2))\n",
    "\n",
    "d1 =int(distancia1)\n",
    "d2= int(distancia2)\n",
    "\n",
    "print(\"La distancia entre los dos planetas es: \\n {0} km \\n {0} millas\".format(abs(d2-d1),abs((d2-d1)*0.621)))"
   ]
  },
  {
   "cell_type": "markdown",
   "metadata": {},
   "source": [
    "# Introducción listas"
   ]
  },
  {
   "cell_type": "code",
   "execution_count": null,
   "metadata": {},
   "outputs": [],
   "source": [
    "# Creamos la lista planets y la mostramos\n",
    "planetas = ['MERCURIO', 'VENUS','TIERRA','MARTE','JUPITER','SATURNO','URANO','NEPTUNO']\n",
    "print(planetas)\n",
    "planetas.append('PLUTON')\n",
    "print(planetas[-1])"
   ]
  },
  {
   "cell_type": "code",
   "execution_count": null,
   "metadata": {},
   "outputs": [],
   "source": [
    "# Lista de planetas\n",
    "planets = ['Mercury', 'Venus', 'Earth', 'Mars', 'Jupiter', 'Saturn', 'Neptune']\n",
    "\n",
    "# Solicitamos el nombre de un planeta *Pista:  input()*\n",
    "planet = input('Escriba el nombre de un planta empezando, la primer letra debe ser mayuscula')\n",
    "\n",
    "# Busca el planeta en la lista\n",
    "posicion = planets.index(planet)\n",
    "\n",
    "# Muestra los planetas más cercanos al sol\n",
    "print('Los planetas mas cercanos al sol son: {0}'.format(planets[0:posicion]))\n",
    "\n",
    "# Muestra los planetas más lejanos al sol\n",
    "print('Los planetas mas alejados son : {0}'.format(planets[posicion+1:len(planets)]))"
   ]
  },
  {
   "cell_type": "markdown",
   "metadata": {},
   "source": [
    "# Estructuras de control"
   ]
  },
  {
   "cell_type": "code",
   "execution_count": null,
   "metadata": {},
   "outputs": [],
   "source": [
    "# Declara dos variables\n",
    "new_planet = ''\n",
    "nplanets = []\n",
    "\n",
    "while new_planet != 'done':\n",
    "    if new_planet:\n",
    "        nplanets.append(new_planet)\n",
    "    new_planet = input('Escriba un nuevo planeta o escriba \"done\" para terminar:')\n",
    "\n",
    "# Escribe tu ciclo for para iterar en una lista de planetas\n",
    "print('Listado de planetas')\n",
    "for item in nplanets:\n",
    "    print([item])\n",
    "    "
   ]
  },
  {
   "cell_type": "markdown",
   "metadata": {},
   "source": [
    "# Administrar datos con diccionarios"
   ]
  },
  {
   "cell_type": "code",
   "execution_count": null,
   "metadata": {},
   "outputs": [],
   "source": [
    "# Crea un diccionario llamado planet con los datos propuestos\n",
    "\n",
    "planeta_d ={\n",
    "    'name': \"Mars\",\n",
    "    'moons': 2\n",
    "}\n",
    "\n",
    "# Muestra el nombre del planeta y el número de lunas que tiene.\n",
    "print(f\"Planeta : {planeta_d['name']} \\nLunas : {planeta_d['moons']}\")\n",
    "\n",
    "# Agrega la clave circunferencia con los datos proporcionados previamente\n",
    "planeta_d.update(circunferencia={\n",
    "    'polar':6752,\n",
    "    'equatorial':6792\n",
    "})\n",
    "\n",
    "print(f\"La circunferencia polar de {planeta_d['name']} es de: {planeta_d['circunferencia']['polar']}\")"
   ]
  },
  {
   "cell_type": "code",
   "execution_count": null,
   "metadata": {},
   "outputs": [],
   "source": [
    "# Planets and moons\n",
    "\n",
    "planet_moons = {\n",
    "    'mercury': 0,\n",
    "    'venus': 0,\n",
    "    'earth': 1,\n",
    "    'mars': 2,\n",
    "    'jupiter': 79,\n",
    "    'saturn': 82,\n",
    "    'uranus': 27,\n",
    "    'neptune': 14,\n",
    "    'pluto': 5,\n",
    "    'haumea': 2,\n",
    "    'makemake': 1,\n",
    "    'eris': 1\n",
    "}\n",
    "\n",
    "# Añade el código para determinar el número de lunas.\n",
    "num_planets=0\n",
    "num_planets= len(planet_moons)\n",
    "\n",
    "# Agrega el código para contar el número de lunas. \n",
    "total_moons=0\n",
    "for value in planet_moons.values():\n",
    "    total_moons = value+total_moons\n",
    "\n",
    "print(f'Promedio : {total_moons/num_planets}')"
   ]
  },
  {
   "cell_type": "markdown",
   "metadata": {},
   "source": [
    "# Uso de funciones en Python"
   ]
  },
  {
   "cell_type": "code",
   "execution_count": null,
   "metadata": {},
   "outputs": [],
   "source": [
    "# Función para leer 3 tanques de combustible y muestre el promedio\n",
    "def promedio(*argm):\n",
    "    prom = sum(argm)/len(argm)\n",
    "    return prom\n",
    "\n",
    "def combustible(tank1,tank2,tank3):\n",
    "\n",
    "     return print(f'El promedio de combustible es: {promedio(tank1,tank2,tank3)}')\n",
    "\n",
    "# Llamamos a la función que genera el reporte print(funcion(tanque1, tanque2, tanque3))\n",
    "combustible(10,20,30)"
   ]
  },
  {
   "cell_type": "code",
   "execution_count": 16,
   "metadata": {},
   "outputs": [
    {
     "name": "stdout",
     "output_type": "stream",
     "text": [
      " Informe de misión a Moon\n",
      "    Lanzamiento: 13:00\n",
      "    Llegada: 13:20\n",
      "    Combustible: 550\n",
      "    \n"
     ]
    }
   ],
   "source": [
    "# Función con un informe preciso de la misión. Considera hora de prelanzamiento, tiempo de vuelo, destino, tanque externo y tanque interno\n",
    "\n",
    "from datetime import datetime, timedelta\n",
    "def informe(hora,tiempo,destino,externo,interno):\n",
    "    t1 = datetime.strptime(hora,\"%H:%M\")\n",
    "    t2 = datetime.strptime(tiempo,\"%H:%M\")\n",
    "    salida = t1+timedelta(hours=t2.hour,minutes=t2.minute)\n",
    "    return print(f\"\"\" Informe de misión a {destino}\n",
    "    Lanzamiento: {hora}\n",
    "    Llegada: {salida.strftime(\"%H:%M\")}\n",
    "    Combustible: {externo+interno} litros\n",
    "    \"\"\"\"\")\n",
    "\n",
    "informe(\"13:00\",\"00:20\",\"Moon\",50,500)"
   ]
  },
  {
   "cell_type": "code",
   "execution_count": 5,
   "metadata": {},
   "outputs": [
    {
     "data": {
      "text/plain": [
       "' Informe de misión a Erath\\n    Tiempo de viaje : 98\\n    Combustible: 1000\\n    Tanque1: 600 litros \\nTanque2: 400 litros \\n'"
      ]
     },
     "execution_count": 5,
     "metadata": {},
     "output_type": "execute_result"
    }
   ],
   "source": [
    "from datetime import datetime, timedelta\n",
    "def informe(destino,*tiempo,**tanques):\n",
    "    mensaje = f\"\"\" Informe de misión a {destino}\n",
    "    Tiempo de viaje : {sum(tiempo)}\n",
    "    Combustible: {sum(tanques.values())}\n",
    "    \"\"\"\"\"\n",
    "    for tank,fuel in tanques.items():\n",
    "        mensaje += f\"{tank}: {fuel} litros \\n\"\n",
    "    return mensaje\n",
    "\n",
    "informe(\"Erath\",50,47,1,Tanque1 = 600,Tanque2 = 400)"
   ]
  },
  {
   "cell_type": "markdown",
   "metadata": {},
   "source": [
    "# Manejo de errores"
   ]
  },
  {
   "cell_type": "code",
   "execution_count": 62,
   "metadata": {},
   "outputs": [
    {
     "ename": "TypeError",
     "evalue": "All arguments must be of type int, but received: '3'",
     "output_type": "error",
     "traceback": [
      "\u001b[1;31m---------------------------------------------------------------------------\u001b[0m",
      "\u001b[1;31mTypeError\u001b[0m                                 Traceback (most recent call last)",
      "Input \u001b[1;32mIn [62]\u001b[0m, in \u001b[0;36mwater_left\u001b[1;34m(astronauts, water_left, days_left)\u001b[0m\n\u001b[0;32m      3\u001b[0m \u001b[39mtry\u001b[39;00m:\n\u001b[0;32m      4\u001b[0m     \u001b[39m# If argument is an int, the following operation will work\u001b[39;00m\n\u001b[1;32m----> 5\u001b[0m     argument \u001b[39m/\u001b[39;49m \u001b[39m10\u001b[39;49m\n\u001b[0;32m      6\u001b[0m \u001b[39mexcept\u001b[39;00m \u001b[39mTypeError\u001b[39;00m:\n\u001b[0;32m      7\u001b[0m     \u001b[39m# TypError will be raised only if it isn't the right type \u001b[39;00m\n\u001b[0;32m      8\u001b[0m     \u001b[39m# Raise the same exception but with a better error message\u001b[39;00m\n",
      "\u001b[1;31mTypeError\u001b[0m: unsupported operand type(s) for /: 'str' and 'int'",
      "\nDuring handling of the above exception, another exception occurred:\n",
      "\u001b[1;31mTypeError\u001b[0m                                 Traceback (most recent call last)",
      "Input \u001b[1;32mIn [62]\u001b[0m, in \u001b[0;36m<module>\u001b[1;34m\u001b[0m\n\u001b[0;32m     14\u001b[0m         \u001b[39mraise\u001b[39;00m \u001b[39mRuntimeError\u001b[39;00m(\u001b[39mf\u001b[39m\u001b[39m\"\u001b[39m\u001b[39mThere is not enough water for \u001b[39m\u001b[39m{\u001b[39;00mastronauts\u001b[39m}\u001b[39;00m\u001b[39m astronauts after \u001b[39m\u001b[39m{\u001b[39;00mdays_left\u001b[39m}\u001b[39;00m\u001b[39m days!\u001b[39m\u001b[39m\"\u001b[39m)\n\u001b[0;32m     15\u001b[0m     \u001b[39mreturn\u001b[39;00m \u001b[39mf\u001b[39m\u001b[39m\"\u001b[39m\u001b[39mTotal water left after \u001b[39m\u001b[39m{\u001b[39;00mdays_left\u001b[39m}\u001b[39;00m\u001b[39m days is: \u001b[39m\u001b[39m{\u001b[39;00mtotal_water_left\u001b[39m}\u001b[39;00m\u001b[39m liters\u001b[39m\u001b[39m\"\u001b[39m\n\u001b[1;32m---> 18\u001b[0m water_left(\u001b[39m\"\u001b[39;49m\u001b[39m3\u001b[39;49m\u001b[39m\"\u001b[39;49m,\u001b[39m\"\u001b[39;49m\u001b[39m200\u001b[39;49m\u001b[39m\"\u001b[39;49m,\u001b[39mNone\u001b[39;49;00m)\n",
      "Input \u001b[1;32mIn [62]\u001b[0m, in \u001b[0;36mwater_left\u001b[1;34m(astronauts, water_left, days_left)\u001b[0m\n\u001b[0;32m      5\u001b[0m         argument \u001b[39m/\u001b[39m \u001b[39m10\u001b[39m\n\u001b[0;32m      6\u001b[0m     \u001b[39mexcept\u001b[39;00m \u001b[39mTypeError\u001b[39;00m:\n\u001b[0;32m      7\u001b[0m         \u001b[39m# TypError will be raised only if it isn't the right type \u001b[39;00m\n\u001b[0;32m      8\u001b[0m         \u001b[39m# Raise the same exception but with a better error message\u001b[39;00m\n\u001b[1;32m----> 9\u001b[0m         \u001b[39mraise\u001b[39;00m \u001b[39mTypeError\u001b[39;00m(\u001b[39mf\u001b[39m\u001b[39m\"\u001b[39m\u001b[39mAll arguments must be of type int, but received: \u001b[39m\u001b[39m'\u001b[39m\u001b[39m{\u001b[39;00margument\u001b[39m}\u001b[39;00m\u001b[39m'\u001b[39m\u001b[39m\"\u001b[39m)\n\u001b[0;32m     10\u001b[0m daily_usage \u001b[39m=\u001b[39m astronauts \u001b[39m*\u001b[39m \u001b[39m11\u001b[39m\n\u001b[0;32m     11\u001b[0m total_usage \u001b[39m=\u001b[39m daily_usage \u001b[39m*\u001b[39m days_left\n",
      "\u001b[1;31mTypeError\u001b[0m: All arguments must be of type int, but received: '3'"
     ]
    }
   ],
   "source": [
    "def water_left(astronauts, water_left, days_left):\n",
    "    for argument in [astronauts, water_left, days_left]:\n",
    "        try:\n",
    "            # If argument is an int, the following operation will work\n",
    "            argument / 10\n",
    "        except TypeError:\n",
    "            # TypError will be raised only if it isn't the right type \n",
    "            # Raise the same exception but with a better error message\n",
    "            raise TypeError(f\"All arguments must be of type int, but received: '{argument}'\")\n",
    "    daily_usage = astronauts * 11\n",
    "    total_usage = daily_usage * days_left\n",
    "    total_water_left = water_left - total_usage\n",
    "    if total_water_left < 0:\n",
    "        raise RuntimeError(f\"There is not enough water for {astronauts} astronauts after {days_left} days!\")\n",
    "    return f\"Total water left after {days_left} days is: {total_water_left} liters\"\n",
    "\n",
    "\n",
    "water_left(\"3\",\"200\",None)"
   ]
  }
 ],
 "metadata": {
  "interpreter": {
   "hash": "2548d7036c63be4667dcfa51cd93bd42160657fe63ee010552b5e93563b69eff"
  },
  "kernelspec": {
   "display_name": "Python 3.10.2 64-bit",
   "language": "python",
   "name": "python3"
  },
  "language_info": {
   "codemirror_mode": {
    "name": "ipython",
    "version": 3
   },
   "file_extension": ".py",
   "mimetype": "text/x-python",
   "name": "python",
   "nbconvert_exporter": "python",
   "pygments_lexer": "ipython3",
   "version": "3.10.2"
  },
  "orig_nbformat": 4
 },
 "nbformat": 4,
 "nbformat_minor": 2
}
